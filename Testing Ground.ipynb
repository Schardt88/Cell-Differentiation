{
 "cells": [
  {
   "cell_type": "code",
   "execution_count": 2,
   "metadata": {},
   "outputs": [
    {
     "name": "stdout",
     "output_type": "stream",
     "text": [
      "3 4.094344276926158 3.541324854612918\n"
     ]
    }
   ],
   "source": [
    "import numpy as np\n",
    "\n",
    "eps_N = -3\n",
    "eps_G = -4\n",
    "eps_A = -1\n",
    "eps_NA = -1\n",
    "\n",
    "eps_G_max = eps_N - np.log((1+np.exp(-eps_A)+np.exp(-eps_A-eps_NA))/(1+np.exp(-eps_A)))\n",
    "eps_G_max2 = eps_N - np.log(np.exp(-eps_NA)-1)\n",
    "print(-eps_N, -eps_G_max, -eps_G_max2)"
   ]
  },
  {
   "cell_type": "code",
   "execution_count": 13,
   "metadata": {},
   "outputs": [
    {
     "name": "stdout",
     "output_type": "stream",
     "text": [
      "1.0855482148687352 1.0855482148687603\n"
     ]
    }
   ],
   "source": [
    "import numpy as np\n",
    "import pandas as pd\n",
    "from FVmesh import initializeFVmesh\n",
    "\n",
    "Pos = np.array(pd.read_csv('testOrganoid.csv'))\n",
    "FVmesh = initializeFVmesh(Pos)\n",
    "\n",
    "def connectivity(FVmesh):\n",
    "    X = np.zeros([FVmesh.nofCells, FVmesh.nofCells])\n",
    "\n",
    "    for i in range(FVmesh.nofCells):\n",
    "        for j in FVmesh.Neigh[i]:\n",
    "            X[i,j] += 1/len(FVmesh.Neigh[i])\n",
    " \n",
    "    return X\n",
    "\n",
    "\n",
    "X = connectivity(FVmesh)\n",
    "eta_n = np.exp(3)\n",
    "eta_g = np.exp(4)\n",
    "eta_a = np.exp(1)\n",
    "eta_na = np.exp(1)\n",
    "\n",
    "A = np.eye(FVmesh.nofCells) + eta_a*X\n",
    "b = np.dot(X, np.ones(FVmesh.nofCells))*(1-1/eta_g)\n",
    "\n",
    "a = np.linalg.solve(A, b)\n",
    "\n",
    "print(eta_n/eta_g*(1+eta_a*eta_na*min(a)), eta_n/eta_g*(1+eta_a*eta_na*max(a)))"
   ]
  }
 ],
 "metadata": {
  "kernelspec": {
   "display_name": "Python 3",
   "language": "python",
   "name": "python3"
  },
  "language_info": {
   "codemirror_mode": {
    "name": "ipython",
    "version": 3
   },
   "file_extension": ".py",
   "mimetype": "text/x-python",
   "name": "python",
   "nbconvert_exporter": "python",
   "pygments_lexer": "ipython3",
   "version": "3.7.4"
  }
 },
 "nbformat": 4,
 "nbformat_minor": 2
}
